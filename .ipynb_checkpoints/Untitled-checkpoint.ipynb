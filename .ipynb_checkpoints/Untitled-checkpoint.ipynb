{
 "cells": [
  {
   "cell_type": "code",
   "execution_count": 78,
   "metadata": {},
   "outputs": [],
   "source": [
    "import pandas as pd\n",
    "import os # import for clear output to not re-print table each time\n",
    "import sys # to quit program \n",
    "from tabulate import tabulate\n",
    "from itertools import product\n",
    "import random"
   ]
  },
  {
   "cell_type": "code",
   "execution_count": 33,
   "metadata": {},
   "outputs": [
    {
     "name": "stdout",
     "output_type": "stream",
     "text": [
      "Instructions: each player enters location of X (player 1) or O (player 2) using a 2 digit integer, e.g. 12 for row 1 column 2\n",
      "Enter \"quit\" at any time to quit the game\n",
      "╒════╤═════╤═════╤═════╕\n",
      "│    │ 1   │ 2   │ 3   │\n",
      "╞════╪═════╪═════╪═════╡\n",
      "│  1 │     │     │     │\n",
      "├────┼─────┼─────┼─────┤\n",
      "│  2 │     │     │     │\n",
      "├────┼─────┼─────┼─────┤\n",
      "│  3 │     │     │     │\n",
      "╘════╧═════╧═════╧═════╛\n"
     ]
    },
    {
     "ename": "KeyboardInterrupt",
     "evalue": "",
     "output_type": "error",
     "traceback": [
      "\u001b[0;31m---------------------------------------------------------------------------\u001b[0m",
      "\u001b[0;31mKeyboardInterrupt\u001b[0m                         Traceback (most recent call last)",
      "\u001b[0;32m~/anaconda3/lib/python3.7/site-packages/ipykernel/kernelbase.py\u001b[0m in \u001b[0;36m_input_request\u001b[0;34m(self, prompt, ident, parent, password)\u001b[0m\n\u001b[1;32m    884\u001b[0m             \u001b[0;32mtry\u001b[0m\u001b[0;34m:\u001b[0m\u001b[0;34m\u001b[0m\u001b[0;34m\u001b[0m\u001b[0m\n\u001b[0;32m--> 885\u001b[0;31m                 \u001b[0mident\u001b[0m\u001b[0;34m,\u001b[0m \u001b[0mreply\u001b[0m \u001b[0;34m=\u001b[0m \u001b[0mself\u001b[0m\u001b[0;34m.\u001b[0m\u001b[0msession\u001b[0m\u001b[0;34m.\u001b[0m\u001b[0mrecv\u001b[0m\u001b[0;34m(\u001b[0m\u001b[0mself\u001b[0m\u001b[0;34m.\u001b[0m\u001b[0mstdin_socket\u001b[0m\u001b[0;34m,\u001b[0m \u001b[0;36m0\u001b[0m\u001b[0;34m)\u001b[0m\u001b[0;34m\u001b[0m\u001b[0;34m\u001b[0m\u001b[0m\n\u001b[0m\u001b[1;32m    886\u001b[0m             \u001b[0;32mexcept\u001b[0m \u001b[0mException\u001b[0m\u001b[0;34m:\u001b[0m\u001b[0;34m\u001b[0m\u001b[0;34m\u001b[0m\u001b[0m\n",
      "\u001b[0;32m~/anaconda3/lib/python3.7/site-packages/jupyter_client/session.py\u001b[0m in \u001b[0;36mrecv\u001b[0;34m(self, socket, mode, content, copy)\u001b[0m\n\u001b[1;32m    802\u001b[0m         \u001b[0;32mtry\u001b[0m\u001b[0;34m:\u001b[0m\u001b[0;34m\u001b[0m\u001b[0;34m\u001b[0m\u001b[0m\n\u001b[0;32m--> 803\u001b[0;31m             \u001b[0mmsg_list\u001b[0m \u001b[0;34m=\u001b[0m \u001b[0msocket\u001b[0m\u001b[0;34m.\u001b[0m\u001b[0mrecv_multipart\u001b[0m\u001b[0;34m(\u001b[0m\u001b[0mmode\u001b[0m\u001b[0;34m,\u001b[0m \u001b[0mcopy\u001b[0m\u001b[0;34m=\u001b[0m\u001b[0mcopy\u001b[0m\u001b[0;34m)\u001b[0m\u001b[0;34m\u001b[0m\u001b[0;34m\u001b[0m\u001b[0m\n\u001b[0m\u001b[1;32m    804\u001b[0m         \u001b[0;32mexcept\u001b[0m \u001b[0mzmq\u001b[0m\u001b[0;34m.\u001b[0m\u001b[0mZMQError\u001b[0m \u001b[0;32mas\u001b[0m \u001b[0me\u001b[0m\u001b[0;34m:\u001b[0m\u001b[0;34m\u001b[0m\u001b[0;34m\u001b[0m\u001b[0m\n",
      "\u001b[0;32m~/anaconda3/lib/python3.7/site-packages/zmq/sugar/socket.py\u001b[0m in \u001b[0;36mrecv_multipart\u001b[0;34m(self, flags, copy, track)\u001b[0m\n\u001b[1;32m    469\u001b[0m         \"\"\"\n\u001b[0;32m--> 470\u001b[0;31m         \u001b[0mparts\u001b[0m \u001b[0;34m=\u001b[0m \u001b[0;34m[\u001b[0m\u001b[0mself\u001b[0m\u001b[0;34m.\u001b[0m\u001b[0mrecv\u001b[0m\u001b[0;34m(\u001b[0m\u001b[0mflags\u001b[0m\u001b[0;34m,\u001b[0m \u001b[0mcopy\u001b[0m\u001b[0;34m=\u001b[0m\u001b[0mcopy\u001b[0m\u001b[0;34m,\u001b[0m \u001b[0mtrack\u001b[0m\u001b[0;34m=\u001b[0m\u001b[0mtrack\u001b[0m\u001b[0;34m)\u001b[0m\u001b[0;34m]\u001b[0m\u001b[0;34m\u001b[0m\u001b[0;34m\u001b[0m\u001b[0m\n\u001b[0m\u001b[1;32m    471\u001b[0m         \u001b[0;31m# have first part already, only loop while more to receive\u001b[0m\u001b[0;34m\u001b[0m\u001b[0;34m\u001b[0m\u001b[0;34m\u001b[0m\u001b[0m\n",
      "\u001b[0;32mzmq/backend/cython/socket.pyx\u001b[0m in \u001b[0;36mzmq.backend.cython.socket.Socket.recv\u001b[0;34m()\u001b[0m\n",
      "\u001b[0;32mzmq/backend/cython/socket.pyx\u001b[0m in \u001b[0;36mzmq.backend.cython.socket.Socket.recv\u001b[0;34m()\u001b[0m\n",
      "\u001b[0;32mzmq/backend/cython/socket.pyx\u001b[0m in \u001b[0;36mzmq.backend.cython.socket._recv_copy\u001b[0;34m()\u001b[0m\n",
      "\u001b[0;32m~/anaconda3/lib/python3.7/site-packages/zmq/backend/cython/checkrc.pxd\u001b[0m in \u001b[0;36mzmq.backend.cython.checkrc._check_rc\u001b[0;34m()\u001b[0m\n",
      "\u001b[0;31mKeyboardInterrupt\u001b[0m: ",
      "\nDuring handling of the above exception, another exception occurred:\n",
      "\u001b[0;31mKeyboardInterrupt\u001b[0m                         Traceback (most recent call last)",
      "\u001b[0;32m<ipython-input-33-d8b2cdcb3dba>\u001b[0m in \u001b[0;36m<module>\u001b[0;34m\u001b[0m\n\u001b[1;32m     65\u001b[0m             \u001b[0;32mbreak\u001b[0m\u001b[0;34m\u001b[0m\u001b[0;34m\u001b[0m\u001b[0m\n\u001b[1;32m     66\u001b[0m \u001b[0minstructions\u001b[0m\u001b[0;34m(\u001b[0m\u001b[0;34m)\u001b[0m\u001b[0;34m\u001b[0m\u001b[0;34m\u001b[0m\u001b[0m\n\u001b[0;32m---> 67\u001b[0;31m \u001b[0mplay_game\u001b[0m\u001b[0;34m(\u001b[0m\u001b[0;34m)\u001b[0m\u001b[0;34m\u001b[0m\u001b[0;34m\u001b[0m\u001b[0m\n\u001b[0m",
      "\u001b[0;32m<ipython-input-33-d8b2cdcb3dba>\u001b[0m in \u001b[0;36mplay_game\u001b[0;34m()\u001b[0m\n\u001b[1;32m     24\u001b[0m         \u001b[0;32mwhile\u001b[0m \u001b[0;32mTrue\u001b[0m\u001b[0;34m:\u001b[0m\u001b[0;34m\u001b[0m\u001b[0;34m\u001b[0m\u001b[0m\n\u001b[1;32m     25\u001b[0m         \u001b[0;31m# gets player input\u001b[0m\u001b[0;34m\u001b[0m\u001b[0;34m\u001b[0m\u001b[0;34m\u001b[0m\u001b[0m\n\u001b[0;32m---> 26\u001b[0;31m             \u001b[0mplayer_input\u001b[0m \u001b[0;34m=\u001b[0m \u001b[0mstr\u001b[0m\u001b[0;34m(\u001b[0m\u001b[0minput\u001b[0m\u001b[0;34m(\u001b[0m\u001b[0;34m'Enter location of {} for {}: '\u001b[0m\u001b[0;34m.\u001b[0m\u001b[0mformat\u001b[0m\u001b[0;34m(\u001b[0m\u001b[0mplayer\u001b[0m\u001b[0;34m[\u001b[0m\u001b[0;36m1\u001b[0m\u001b[0;34m]\u001b[0m\u001b[0;34m,\u001b[0m \u001b[0mplayer\u001b[0m\u001b[0;34m[\u001b[0m\u001b[0;36m0\u001b[0m\u001b[0;34m]\u001b[0m\u001b[0;34m)\u001b[0m\u001b[0;34m)\u001b[0m\u001b[0;34m)\u001b[0m \u001b[0;31m# input is a string\u001b[0m\u001b[0;34m\u001b[0m\u001b[0;34m\u001b[0m\u001b[0m\n\u001b[0m\u001b[1;32m     27\u001b[0m             \u001b[0;31m# tests player input\u001b[0m\u001b[0;34m\u001b[0m\u001b[0;34m\u001b[0m\u001b[0;34m\u001b[0m\u001b[0m\n\u001b[1;32m     28\u001b[0m             \u001b[0;32mif\u001b[0m \u001b[0mplayer_input\u001b[0m \u001b[0;34m==\u001b[0m \u001b[0;34m'quit'\u001b[0m\u001b[0;34m:\u001b[0m\u001b[0;34m\u001b[0m\u001b[0;34m\u001b[0m\u001b[0m\n",
      "\u001b[0;32m~/anaconda3/lib/python3.7/site-packages/ipykernel/kernelbase.py\u001b[0m in \u001b[0;36mraw_input\u001b[0;34m(self, prompt)\u001b[0m\n\u001b[1;32m    858\u001b[0m             \u001b[0mself\u001b[0m\u001b[0;34m.\u001b[0m\u001b[0m_parent_ident\u001b[0m\u001b[0;34m,\u001b[0m\u001b[0;34m\u001b[0m\u001b[0;34m\u001b[0m\u001b[0m\n\u001b[1;32m    859\u001b[0m             \u001b[0mself\u001b[0m\u001b[0;34m.\u001b[0m\u001b[0m_parent_header\u001b[0m\u001b[0;34m,\u001b[0m\u001b[0;34m\u001b[0m\u001b[0;34m\u001b[0m\u001b[0m\n\u001b[0;32m--> 860\u001b[0;31m             \u001b[0mpassword\u001b[0m\u001b[0;34m=\u001b[0m\u001b[0;32mFalse\u001b[0m\u001b[0;34m,\u001b[0m\u001b[0;34m\u001b[0m\u001b[0;34m\u001b[0m\u001b[0m\n\u001b[0m\u001b[1;32m    861\u001b[0m         )\n\u001b[1;32m    862\u001b[0m \u001b[0;34m\u001b[0m\u001b[0m\n",
      "\u001b[0;32m~/anaconda3/lib/python3.7/site-packages/ipykernel/kernelbase.py\u001b[0m in \u001b[0;36m_input_request\u001b[0;34m(self, prompt, ident, parent, password)\u001b[0m\n\u001b[1;32m    888\u001b[0m             \u001b[0;32mexcept\u001b[0m \u001b[0mKeyboardInterrupt\u001b[0m\u001b[0;34m:\u001b[0m\u001b[0;34m\u001b[0m\u001b[0;34m\u001b[0m\u001b[0m\n\u001b[1;32m    889\u001b[0m                 \u001b[0;31m# re-raise KeyboardInterrupt, to truncate traceback\u001b[0m\u001b[0;34m\u001b[0m\u001b[0;34m\u001b[0m\u001b[0;34m\u001b[0m\u001b[0m\n\u001b[0;32m--> 890\u001b[0;31m                 \u001b[0;32mraise\u001b[0m \u001b[0mKeyboardInterrupt\u001b[0m\u001b[0;34m\u001b[0m\u001b[0;34m\u001b[0m\u001b[0m\n\u001b[0m\u001b[1;32m    891\u001b[0m             \u001b[0;32melse\u001b[0m\u001b[0;34m:\u001b[0m\u001b[0;34m\u001b[0m\u001b[0;34m\u001b[0m\u001b[0m\n\u001b[1;32m    892\u001b[0m                 \u001b[0;32mbreak\u001b[0m\u001b[0;34m\u001b[0m\u001b[0;34m\u001b[0m\u001b[0m\n",
      "\u001b[0;31mKeyboardInterrupt\u001b[0m: "
     ]
    }
   ],
   "source": [
    "### '''creating empty df for the tic tac toe game'''\n",
    "df = pd.DataFrame(index = range(1,4), columns = range(1,4))\n",
    "\n",
    "'''tic tac toe game'''\n",
    "def instructions():\n",
    "    os.system( 'clear' ) # clears terminal so that df is not printed each tine\n",
    "    print('Instructions: each player enters location of X (player 1) or O (player 2) using a 2 digit integer, e.g. 12 for row 1 column 2')\n",
    "    print('Enter \"quit\" at any time to quit the game')\n",
    "    # print (df.fillna(' ')) # shows empty df \n",
    "    print(tabulate(df.fillna(' '), headers='keys', tablefmt='fancy_grid'))\n",
    "    # print(tabulate(df.fillna(' '), tablefmt='grid'))\n",
    "    \n",
    "def play_game():\n",
    "    count = 0 # we will be increment the count to signal when end of game has been reached\n",
    "    input_lst = ['11', '12', '13', '21', '22', '23', '31', '32', '33'] \n",
    "    \n",
    "    while count <= 9: # ends game when table is complete   \n",
    "        # switches between player 1 and 2\n",
    "        if (count % 2) == 0:\n",
    "            player = ('Player 1','X')\n",
    "        else:\n",
    "            player = ('Player 2','O')\n",
    "        \n",
    "        while True:\n",
    "        # gets player input\n",
    "            player_input = str(input('Enter location of {} for {}: '.format(player[1], player[0]))) # input is a string\n",
    "            # tests player input\n",
    "            if player_input == 'quit':\n",
    "                sys.exit('{} is a quitter.'.format(player[0]))\n",
    "            else:\n",
    "                if player_input in input_lst:\n",
    "                    # processes player input\n",
    "                    player_input.split()\n",
    "\n",
    "                    if player[0]=='Player 1':\n",
    "                        df.iloc[int(player_input[0])-1,int(player_input[1])- 1] = 'X'\n",
    "                    else:\n",
    "                        df.iloc[int(player_input[0])-1,int(player_input[1])- 1] = 'O'\n",
    "\n",
    "                    instructions() # displays instructions and table\n",
    "                    #updates the input_lst so that overwrite error do not happen \n",
    "                    remove_number = player_input[0] + player_input[1]\n",
    "                    input_lst.remove(remove_number)\n",
    "                    break\n",
    "                else:\n",
    "                    instructions()\n",
    "                    print('Invalid input. You can enter any number from the following list:' , ', '.join(input_lst))\n",
    "                \n",
    "        # checks if player won\n",
    "        if (list(df[1].values) == (3 * [player[1]])) | (list(df[2].values) == (3 * [player[1]])) | (list(df[3].values) == (3 * [player[1]])): # wins by matching columns\n",
    "            print (\"{} wins\".format(player[0]))\n",
    "            break\n",
    "        if (list(df.iloc[0]) == (3 * [player[1]])) | (list(df.iloc[1]) == (3 * [player[1]])) | (list(df.iloc[2]) == (3 * [player[1]])): # wins by matching rows\n",
    "            print (\"{} wins\".format(player[0]))\n",
    "            break\n",
    "        if ([df.iloc[0, 0], df.iloc[1, 1], df.iloc[2, 2]] == (3 * [player[1]])) | ([df.iloc[0, 2], df.iloc[1, 1], df.iloc[2, 0]] == (3 * [player[1]])): # wins by matching columns\n",
    "            print (\"{} wins\".format(player[0]))\n",
    "            break\n",
    "        \n",
    "        count += 1\n",
    "        \n",
    "        # checks if end of game is reached and no one won\n",
    "        if count == 9: \n",
    "            print(\"It's a tie!\")\n",
    "            break\n",
    "instructions()\n",
    "play_game()"
   ]
  },
  {
   "cell_type": "code",
   "execution_count": 79,
   "metadata": {},
   "outputs": [],
   "source": [
    "# initialize board state\n",
    "state_t = 9*'E'\n",
    "\n",
    "# initialize Q-learning table\n",
    "actions_lst = ['11','12','13','21','22','23','31','32','33']\n",
    "actions_dict = {i: actions_lst[i] for i in range(len(actions_lst))} # map action to 1,2...9\n",
    "q_learning_df = pd.DataFrame(columns=actions_lst) # empty df with action lst as columns\n",
    "q_learning_df.head()\n",
    "\n",
    "# set Q-learning table params\n",
    "alpha = 0.9\n",
    "gamma = 0.95"
   ]
  },
  {
   "cell_type": "code",
   "execution_count": 80,
   "metadata": {},
   "outputs": [
    {
     "name": "stdout",
     "output_type": "stream",
     "text": [
      "action =  13\n"
     ]
    },
    {
     "data": {
      "text/html": [
       "<div>\n",
       "<style scoped>\n",
       "    .dataframe tbody tr th:only-of-type {\n",
       "        vertical-align: middle;\n",
       "    }\n",
       "\n",
       "    .dataframe tbody tr th {\n",
       "        vertical-align: top;\n",
       "    }\n",
       "\n",
       "    .dataframe thead th {\n",
       "        text-align: right;\n",
       "    }\n",
       "</style>\n",
       "<table border=\"1\" class=\"dataframe\">\n",
       "  <thead>\n",
       "    <tr style=\"text-align: right;\">\n",
       "      <th></th>\n",
       "      <th>11</th>\n",
       "      <th>12</th>\n",
       "      <th>13</th>\n",
       "      <th>21</th>\n",
       "      <th>22</th>\n",
       "      <th>23</th>\n",
       "      <th>31</th>\n",
       "      <th>32</th>\n",
       "      <th>33</th>\n",
       "    </tr>\n",
       "  </thead>\n",
       "  <tbody>\n",
       "    <tr>\n",
       "      <th>EEEEEEEEE</th>\n",
       "      <td>0.0</td>\n",
       "      <td>0.0</td>\n",
       "      <td>0.0</td>\n",
       "      <td>0.0</td>\n",
       "      <td>0.0</td>\n",
       "      <td>0.0</td>\n",
       "      <td>0.0</td>\n",
       "      <td>0.0</td>\n",
       "      <td>0.0</td>\n",
       "    </tr>\n",
       "  </tbody>\n",
       "</table>\n",
       "</div>"
      ],
      "text/plain": [
       "            11   12   13   21   22   23   31   32   33\n",
       "EEEEEEEEE  0.0  0.0  0.0  0.0  0.0  0.0  0.0  0.0  0.0"
      ]
     },
     "execution_count": 80,
     "metadata": {},
     "output_type": "execute_result"
    }
   ],
   "source": [
    "# check if state is in Q table, if not then add it to Q table\n",
    "if not state_t in q_learning_df.index:\n",
    "    add_row = pd.DataFrame([[0.0 for i in range(9)]], index = [state_t],columns=actions_lst)\n",
    "    q_learning_df = q_learning_df.append(add_row)\n",
    "    action = random.choice(actions_lst)\n",
    "else: \n",
    "    action = int(max(q_learning_df.loc[state_t,:].to_dict(), key=q_learning_df.loc[state_t,:].to_dict().get))\n",
    "print('action = ', action)\n",
    "q_learning_df.head()"
   ]
  },
  {
   "cell_type": "code",
   "execution_count": 81,
   "metadata": {},
   "outputs": [
    {
     "name": "stdout",
     "output_type": "stream",
     "text": [
      "state_t1 =  EEXEEEEEE\n"
     ]
    }
   ],
   "source": [
    "# update the board from action by creating a new state\n",
    "action_idx = [k for k, v in actions_dict.items() if v == action][0] # get action index\n",
    "state_lst = list(state_t) # convert state str to list\n",
    "state_lst[action_idx] = 'X' # change the state based on action\n",
    "state_t1 = ''.join(state_lst)# convert state back from list back to string\n",
    "print('state_t1 = ', state_t1)"
   ]
  },
  {
   "cell_type": "code",
   "execution_count": 82,
   "metadata": {},
   "outputs": [
    {
     "data": {
      "text/plain": [
       "('continue', 0.0)"
      ]
     },
     "execution_count": 82,
     "metadata": {},
     "output_type": "execute_result"
    }
   ],
   "source": [
    "# check game status: win, loss, draw, continue\n",
    "state = state_t1\n",
    "X_wins = 3*'X'\n",
    "O_wins = 3*'O'\n",
    "if (\n",
    "    # win by matching rows\n",
    "    (state[:3] == X_wins) or\n",
    "    (state[3:6] == X_wins) or \n",
    "    (state[6:9] == X_wins) or\n",
    "    # win by matching columns\n",
    "    (state[0] + state[3] + state[6] == X_wins) or\n",
    "    (state[1] + state[4] + state[7] == X_wins) or \n",
    "    (state[2] + state[5] + state[8] == X_wins) or\n",
    "    # win by diagonals\n",
    "    (state[0] + state[4] + state[8] == X_wins) or\n",
    "    (state[2] + state[4] + state[6] == X_wins)\n",
    "   ):\n",
    "    game_status = ('win',1)\n",
    "elif (\n",
    "    # loss by matching rows\n",
    "    (state[:3] == O_wins) or\n",
    "    (state[3:6] == O_wins) or \n",
    "    (state[6:9] == O_wins) or\n",
    "    # loss by matching columns\n",
    "    (state[0] + state[3] + state[6] == O_wins) or\n",
    "    (state[1] + state[4] + state[7] == O_wins) or \n",
    "    (state[2] + state[5] + state[8] == O_wins) or\n",
    "    # loss by diagonals\n",
    "    (state[0] + state[4] + state[8] == O_wins) or\n",
    "    (state[2] + state[4] + state[6] == O_wins)\n",
    "    ):\n",
    "    game_status = ('loss',-1.0)\n",
    "elif 'E' not in state:\n",
    "    game_status = ('draw',0.5)\n",
    "else:\n",
    "    game_status = ('continue',0.0)\n",
    "game_status"
   ]
  },
  {
   "cell_type": "code",
   "execution_count": 83,
   "metadata": {},
   "outputs": [],
   "source": [
    "# update Q table with Q-learning equation: \n",
    "# Q(S_t,A_t) <-- Q(S_t,A_t) + alpha * (reward + gamma * max_a_Q(S_t1,a) - Q(S_t,A_t))\n",
    "q_value_t = q_learning_df.loc[state_t,action] # Q(S_t,A_t)\n",
    "reward = game_status[1] # calculate reward\n",
    "\n",
    "# calculate max_a_Q(S_t1,a) - enter this state S(t+1) in the Q-learning table if not in there\n",
    "if not state_t1 in q_learning_df.index:\n",
    "    add_row = pd.DataFrame([[0.0 for i in range(9)]], index = [state_t1],columns=actions_lst)\n",
    "    q_learning_df = q_learning_df.append(add_row)\n",
    "    max_a_t1 = random.choice(actions_lst)\n",
    "else:\n",
    "    max_a_t1 = max(q_learning_df.loc[state_t1,:].to_dict(), key=q_learning_df.loc[state_t1,:].to_dict().get)\n",
    "max_q_t1 = q_learning_df.loc[state_t1,max_a_t1]# max_a_Q(S_t1,a)\n",
    "\n",
    "q_value_t = q_value_t + alpha*(reward + gamma*max_q_t1 - q_value_t) # update Q-value using formula\n",
    "q_learning_df.loc[state_t,max_a_t1] = q_value_t # update Q-value table using Q-value calculated above"
   ]
  },
  {
   "cell_type": "code",
   "execution_count": null,
   "metadata": {},
   "outputs": [],
   "source": [
    "# random player plays "
   ]
  },
  {
   "cell_type": "code",
   "execution_count": null,
   "metadata": {},
   "outputs": [],
   "source": [
    "# check winner"
   ]
  },
  {
   "cell_type": "code",
   "execution_count": null,
   "metadata": {},
   "outputs": [],
   "source": []
  },
  {
   "cell_type": "code",
   "execution_count": null,
   "metadata": {},
   "outputs": [],
   "source": [
    "if not state in q_learning_df.index:\n",
    "    add_row = pd.DataFrame([[1,2,5,3,5,4,2,3,1]], index = [state],columns=actions_lst)\n",
    "    q_learning_df = q_learning_df.append(add_row)\n",
    "q_learning_df.head()"
   ]
  },
  {
   "cell_type": "code",
   "execution_count": null,
   "metadata": {},
   "outputs": [],
   "source": [
    "max(q_learning_df.loc[state,:].to_dict(), key=q_learning_df.loc[state,:].to_dict().get)"
   ]
  },
  {
   "cell_type": "code",
   "execution_count": null,
   "metadata": {},
   "outputs": [],
   "source": [
    "q_learning_df.loc[state,:].to_frame().idxmax(axis=0)"
   ]
  },
  {
   "cell_type": "code",
   "execution_count": null,
   "metadata": {},
   "outputs": [],
   "source": [
    "\n"
   ]
  },
  {
   "cell_type": "code",
   "execution_count": null,
   "metadata": {},
   "outputs": [],
   "source": []
  },
  {
   "cell_type": "code",
   "execution_count": null,
   "metadata": {},
   "outputs": [],
   "source": [
    "[0 for i in range(9)]"
   ]
  },
  {
   "cell_type": "code",
   "execution_count": null,
   "metadata": {},
   "outputs": [],
   "source": [
    "q_learning_df.head()"
   ]
  },
  {
   "cell_type": "code",
   "execution_count": null,
   "metadata": {},
   "outputs": [],
   "source": [
    "df2 = pd.DataFrame([[5, 6], [7, 8]], columns=list('AB'))\n",
    "df.append(df2)"
   ]
  },
  {
   "cell_type": "code",
   "execution_count": null,
   "metadata": {},
   "outputs": [],
   "source": [
    "# permutations with repetition\n",
    "perm = product(['X','O','E'], repeat=9)\n",
    "perm_lst = []\n",
    "for i in perm:\n",
    "    perm_lst.append(''.join(i))"
   ]
  },
  {
   "cell_type": "code",
   "execution_count": null,
   "metadata": {
    "scrolled": true
   },
   "outputs": [],
   "source": [
    "perm_lst"
   ]
  },
  {
   "cell_type": "code",
   "execution_count": null,
   "metadata": {},
   "outputs": [],
   "source": [
    "# this state cannot exist (e.g. tic tac toe with only Xs)\n",
    "perm_lst[0]"
   ]
  },
  {
   "cell_type": "code",
   "execution_count": null,
   "metadata": {},
   "outputs": [],
   "source": [
    "# loop through the permutation and add to exclude_lst the states that cannot exist\n",
    "exclude_lst = []\n",
    "for i in range(len(perm_lst)-1):\n",
    "    if (perm_lst[i].count('X')>5) or (perm_lst[i].count('O')>4):\n",
    "        exclude_lst.append(perm_lst[i])"
   ]
  },
  {
   "cell_type": "code",
   "execution_count": null,
   "metadata": {},
   "outputs": [],
   "source": [
    "# remove the states that cannot exist from the perm_lst and store into idx_lst\n",
    "idx_lst = [x for x in perm_lst if x not in exclude_lst]"
   ]
  },
  {
   "cell_type": "code",
   "execution_count": null,
   "metadata": {},
   "outputs": [],
   "source": [
    "len(perm_lst)"
   ]
  },
  {
   "cell_type": "code",
   "execution_count": null,
   "metadata": {},
   "outputs": [],
   "source": [
    "len(exclude_lst)"
   ]
  },
  {
   "cell_type": "code",
   "execution_count": null,
   "metadata": {},
   "outputs": [],
   "source": [
    "len(idx_lst)"
   ]
  },
  {
   "cell_type": "code",
   "execution_count": null,
   "metadata": {},
   "outputs": [],
   "source": [
    "len(idx_lst) + len(exclude_lst) == len(perm_lst)"
   ]
  },
  {
   "cell_type": "code",
   "execution_count": null,
   "metadata": {},
   "outputs": [],
   "source": [
    "# create the Q learning df\n",
    "actions_lst = ['11','12','13','21','22','23','31','32','33']\n",
    "q_learning_df = pd.DataFrame(index=idx_lst,columns=actions_lst)"
   ]
  },
  {
   "cell_type": "code",
   "execution_count": null,
   "metadata": {},
   "outputs": [],
   "source": [
    "q_learning_df"
   ]
  }
 ],
 "metadata": {
  "kernelspec": {
   "display_name": "Python 3",
   "language": "python",
   "name": "python3"
  },
  "language_info": {
   "codemirror_mode": {
    "name": "ipython",
    "version": 3
   },
   "file_extension": ".py",
   "mimetype": "text/x-python",
   "name": "python",
   "nbconvert_exporter": "python",
   "pygments_lexer": "ipython3",
   "version": "3.7.3"
  }
 },
 "nbformat": 4,
 "nbformat_minor": 2
}
