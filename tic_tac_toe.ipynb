{
 "cells": [
  {
   "cell_type": "markdown",
   "metadata": {},
   "source": [
    "# Teaching a Computer to Play Tic Tac Toe using the Q-Learning Algorithm"
   ]
  },
  {
   "cell_type": "markdown",
   "metadata": {},
   "source": [
    "When I first started my journey towards becoming a data scientist, I had to learn Python's Pandas library to manipulate dataframes. At the time, I challenged myself to build a tic-tac-toe game using Pandas because I believe that the best way to learn how to code is to build projects. Several years later, when I became a more seasoned data scientist, I revisited this project to train a computer how to play tic-tac-toe, this time testing my understanding of a reinforcement learning algorithm called Q-learning. In this report, I will detail how I developed a multiplayer tic-tac-toe game, and how I trained a computer to play this age-old game. "
   ]
  },
  {
   "cell_type": "code",
   "execution_count": 46,
   "metadata": {},
   "outputs": [
    {
     "name": "stdout",
     "output_type": "stream",
     "text": [
      "Requirement already satisfied: tabulate in /Users/khalilezzine/opt/anaconda3/lib/python3.7/site-packages (0.8.7)\r\n"
     ]
    }
   ],
   "source": [
    "!pip install tabulate\n",
    "import numpy as np\n",
    "import pandas as pd\n",
    "import os # import for clear output to not re-print table each time\n",
    "import sys # to quit program \n",
    "from tabulate import tabulate\n",
    "from itertools import product\n",
    "import random\n",
    "import matplotlib.pyplot as plt"
   ]
  },
  {
   "cell_type": "markdown",
   "metadata": {},
   "source": [
    "### Multiplayer tic-tac-toe"
   ]
  },
  {
   "cell_type": "markdown",
   "metadata": {},
   "source": [
    "There were some fundamental design decisions I made before coding the tic-tac-toe game, namely:\n",
    "- the game would be played using a Terminal/command prompt.\n",
    "    - This reduces the amount of code that would need to be written, all the while maintaining all the necessary functionality of the game to test my knowledge of the Pandas library.\n",
    "- The tic-tac-toe board would be modelled as a 3 by 3 Pandas dataframe. \n",
    "    - The location of the 'X' or 'O' would be referenced using a 2-digit number representing the row and column values, respectively, e.g. '22' for the spot at the center of the table.\n",
    "- I will use the `tabulate` library to make a nicer looking board."
   ]
  },
  {
   "cell_type": "code",
   "execution_count": 47,
   "metadata": {},
   "outputs": [
    {
     "name": "stdout",
     "output_type": "stream",
     "text": [
      "╒════╤═════╤═════╤═════╕\n",
      "│    │ 1   │ 2   │ 3   │\n",
      "╞════╪═════╪═════╪═════╡\n",
      "│  1 │     │     │     │\n",
      "├────┼─────┼─────┼─────┤\n",
      "│  2 │     │     │     │\n",
      "├────┼─────┼─────┼─────┤\n",
      "│  3 │     │     │     │\n",
      "╘════╧═════╧═════╧═════╛\n"
     ]
    }
   ],
   "source": [
    "df = pd.DataFrame(index = range(1,4), columns = range(1,4)) # creating empty df for the tic tac toe board\n",
    "print(tabulate(df.fillna(' '), headers='keys', tablefmt='fancy_grid'))"
   ]
  },
  {
   "cell_type": "markdown",
   "metadata": {},
   "source": [
    "I then had to consider the general flow of the game:\n",
    "- Show blank grid below the game instructions.\n",
    "- Prompt player 1 to enter a 2-digit number representing the location of X.\n",
    "- Update the board with X given the location provided.\n",
    "- Prompt player 2 to enter a 2-digit number representing the location of 0.\n",
    "- Update the board with X given the location provided.\n",
    "- Repeat until game ends. \n",
    "\n",
    "We use `fillna` to print a blank instead of `nan` in the dataframe. We also use a counter, `count`, to determine whose turn it is to play, i.e. Player 1 (X) or Player 2 (O). By convention, we choose Player 1 (X) as the first to play - hence if `count` modulo 2 is equal to 0, we display the prompt for Player 1, otherwise we display the prompt for Player 2. "
   ]
  },
  {
   "cell_type": "code",
   "execution_count": 50,
   "metadata": {
    "scrolled": true
   },
   "outputs": [
    {
     "name": "stdout",
     "output_type": "stream",
     "text": [
      "Player 1(X): enter a 2-digit number representing a row and column: 22\n",
      "╒════╤═════╤═════╤═════╕\n",
      "│    │ 1   │ 2   │ 3   │\n",
      "╞════╪═════╪═════╪═════╡\n",
      "│  1 │ X   │     │     │\n",
      "├────┼─────┼─────┼─────┤\n",
      "│  2 │     │ X   │     │\n",
      "├────┼─────┼─────┼─────┤\n",
      "│  3 │     │     │     │\n",
      "╘════╧═════╧═════╧═════╛\n"
     ]
    }
   ],
   "source": [
    "## count = 0\n",
    "# switches between player 1 and 2\n",
    "if (count % 2) == 0:\n",
    "    player = ('Player 1','X')\n",
    "else:\n",
    "    player = ('Player 2','O')\n",
    "\n",
    "# gets player input\n",
    "player_input = str(input('{}({}): enter a 2-digit number representing a row and column: '.format(player[0],player[1])))\n",
    "if player[0]=='Player 1':\n",
    "        df.iloc[int(player_input[0])-1,int(player_input[1])- 1] = 'X'\n",
    "else:\n",
    "        df.iloc[int(player_input[0])-1,int(player_input[1])- 1] = 'O'\n",
    "print(tabulate(df.fillna(' '), headers='keys', tablefmt='fancy_grid'))"
   ]
  },
  {
   "cell_type": "markdown",
   "metadata": {},
   "source": [
    "We now need to consider edge cases and end states for the games. Edge cases are user inputs that might \"break\" the game, i.e. cause a bug in the script. This would happen if the player enters an invalid input, e.g. '123' or 'gh7.'\n",
    "\n",
    "To prevent this from happening, we start by creating a list of valid inputs, `input_lst`, and test the user's inputs against this list using an `if` statement. If the input check does not pass, the player gets an error message and is asked to re-enter their input. \n",
    "\n",
    "As the game progresses, the list of invalid inputs starts to contain entries which we considered otherwise valid. For instance, I cannot enter the number '33' if the bottom right of the table already contains an X or O. As a result, `input_lst` is a running list which gets reduced with previous valid entries from the players. To update the list, we use the `.remove` method. "
   ]
  },
  {
   "cell_type": "code",
   "execution_count": 31,
   "metadata": {},
   "outputs": [
    {
     "name": "stdout",
     "output_type": "stream",
     "text": [
      "Valid inputs:  ['11', '12', '13', '21', '22', '23', '31', '32', '33']\n",
      "Enter a 2-digit number representing a row and column: 33\n",
      "Enter a 2-digit number representing a row and column: 123\n",
      "Invalid input. You can enter any number from the following list: 11, 12, 13, 21, 22, 23, 31, 32\n"
     ]
    }
   ],
   "source": [
    "count = 0\n",
    "input_lst = ['11', '12', '13', '21', '22', '23', '31', '32', '33'] \n",
    "print('Valid inputs: ',input_lst)\n",
    "player_input = str(input('Enter a 2-digit number representing a row and column: '))\n",
    "remove_number = player_input[0] + player_input[1]\n",
    "input_lst.remove(remove_number)\n",
    "player_input = str(input('Enter a 2-digit number representing a row and column: '))\n",
    "if player_input not in input_lst:\n",
    "    print('Invalid input. You can enter any number from the following list:' , ', '.join(input_lst))"
   ]
  },
  {
   "cell_type": "markdown",
   "metadata": {},
   "source": [
    "We now need to consider end states of the game, which are threefold:\n",
    "1. Player 1 (X) wins.\n",
    "2. Player 2 (O) wins.\n",
    "3. Tie game."
   ]
  },
  {
   "cell_type": "markdown",
   "metadata": {},
   "source": [
    "To check for these end states, after each user input, we update the board and check if there are 3 Xs or Os representing the following victories:\n",
    "- win by columns\n",
    "    - locations 11,12,13 or 21,22,23 or 31,32,33\n",
    "- win by rows\n",
    "    - locations 11,12,13 or 21,22,23 or 31,32,33\n",
    "- win by diagonals\n",
    "    - locations 11,22,33 or 13,22,31\n",
    "    \n",
    "I perform this check after each player selection, and use the `.values` method in Pandas to check if there are 3 Xs or Os in the locations of interest. If a player has won, I print the result and exit the game. "
   ]
  },
  {
   "cell_type": "code",
   "execution_count": 51,
   "metadata": {},
   "outputs": [],
   "source": [
    "# checks if player won\n",
    "if (list(df[1].values) == (3 * [player[1]])) | (list(df[2].values) == (3 * [player[1]])) | (list(df[3].values) == (3 * [player[1]])): # wins by matching columns\n",
    "    print (\"{} wins\".format(player[0]))\n",
    "    sys.exit()\n",
    "if (list(df.iloc[0]) == (3 * [player[1]])) | (list(df.iloc[1]) == (3 * [player[1]])) | (list(df.iloc[2]) == (3 * [player[1]])): # wins by matching rows\n",
    "    print (\"{} wins\".format(player[0]))\n",
    "    sys.exit()\n",
    "if ([df.iloc[0, 0], df.iloc[1, 1], df.iloc[2, 2]] == (3 * [player[1]])) | ([df.iloc[0, 2], df.iloc[1, 1], df.iloc[2, 0]] == (3 * [player[1]])): # wins by matching columns\n",
    "    print (\"{} wins\".format(player[0]))\n",
    "    sys.exit()"
   ]
  },
  {
   "cell_type": "markdown",
   "metadata": {},
   "source": [
    "A tie game happens when there are no winners and no places on the board to put an X or O. Given we increment `count` after each valid player input, a tie game happens when none of the win `if` statements are True and when `count=0`. \n",
    "\n",
    "Putting it all together, we can now complete the multiplayer tic-toc-toe game. The full code is included in the appendix within the `play_game_multiplayer()` function. Here is a summary of the gameplay:\n",
    "- The game is played from the Terminal/command prompt. \n",
    "- Instructions are printed on the screen, as well as a blank tic-tac-toe board.\n",
    "- Each player is prompted to enter a 2-digit number - Player 1 (x) is first.\n",
    "- If player entries are invalid, an error message appears including the list of valid inputs. This error message continues to appear until a valid input is submitted.\n",
    "- If there is a winner, the game ends after a print statement stating which player won.\n",
    "- If it's a tie, the game ends after and the following message is printed \"It's a tie.\""
   ]
  },
  {
   "cell_type": "markdown",
   "metadata": {},
   "source": [
    "### Teaching a computer to play tic-tac-toe"
   ]
  },
  {
   "cell_type": "markdown",
   "metadata": {},
   "source": [
    "Now that we have coded a multiplayer tic-tac-toe game, let's train a computer to behave as one of the human players. To do so, we will be using the Q-learning algorithm, a technique commonly used in reinforcement learning. To best understand the inner workings of this algorithm, we will be implementing it from scratch in lieu of using pre-existing libraries."
   ]
  },
  {
   "cell_type": "markdown",
   "metadata": {},
   "source": [
    "##### Q-learning table"
   ]
  },
  {
   "cell_type": "markdown",
   "metadata": {},
   "source": [
    "The Q-learning algorithm works by recording all actions and states of the game into a table.\n",
    "- The rows of the table represent each board state.\n",
    "- The columns represent each action.\n",
    "- The values in the table represent the score of doing a particular action in a given state.\n",
    "    - These values are updated using the Q-function which will be detailed in the next section. \n",
    "    \n",
    "The image below illustrates this table. Image source: https://medium.com/@carsten.friedrich/part-3-tabular-q-learning-a-tic-tac-toe-player-that-gets-better-and-better-fa4da4b0892a. "
   ]
  },
  {
   "cell_type": "code",
   "execution_count": 52,
   "metadata": {},
   "outputs": [
    {
     "data": {
      "image/png": "[encoded data removed]",
      "text/plain": [
       "<Figure size 864x576 with 1 Axes>"
      ]
     },
     "metadata": {
      "needs_background": "light"
     },
     "output_type": "display_data"
    }
   ],
   "source": [
    "%matplotlib inline\n",
    "import matplotlib.pyplot as plt\n",
    "import matplotlib.image as mpimg\n",
    "plt.rcParams['figure.figsize'] = [12, 8]\n",
    "img = mpimg.imread('table_image.png')\n",
    "imgplot = plt.imshow(img)"
   ]
  },
  {
   "cell_type": "markdown",
   "metadata": {},
   "source": [
    "I chose to represent the rows as a 9-character string representing the board state. The state in the dataframe below would be equal to `'XEXOOXEEO'`. \n",
    "- From left to right:\n",
    "    - The first 3 elements of the string represent the first row of the board.\n",
    "    - Elements 4, 5 and 6 represent the second row of the board.\n",
    "    - Elements 7, 8 and 9 represent the third row of the board.\n",
    "- There is a `'X'` in the string where a X is placed.\n",
    "- There is a `'O'` in the string where a O is placed.\n",
    "- There is a `'E'` where there is an empty cell on the board (neither Xs nor Os). "
   ]
  },
  {
   "cell_type": "code",
   "execution_count": 53,
   "metadata": {
    "scrolled": true
   },
   "outputs": [
    {
     "name": "stdout",
     "output_type": "stream",
     "text": [
      "╒════╤═════╤═════╤═════╕\n",
      "│    │ 1   │ 2   │ 3   │\n",
      "╞════╪═════╪═════╪═════╡\n",
      "│  1 │ X   │     │ X   │\n",
      "├────┼─────┼─────┼─────┤\n",
      "│  2 │ O   │ O   │ X   │\n",
      "├────┼─────┼─────┼─────┤\n",
      "│  3 │     │     │ O   │\n",
      "╘════╧═════╧═════╧═════╛\n"
     ]
    }
   ],
   "source": [
    "df = pd.DataFrame(index = range(1,4), columns = range(1,4)) # creating empty df for the tic tac toe board\n",
    "df.iloc[0,0], df.iloc[0,1], df.iloc[0,2] =  'X', '', 'X'\n",
    "df.iloc[1,0], df.iloc[1,1], df.iloc[1,2] =  'O', 'O', 'X'\n",
    "df.iloc[2,0], df.iloc[2,1], df.iloc[2,2] =  '', '', 'O'\n",
    "print(tabulate(df.fillna(' '), headers='keys', tablefmt='fancy_grid'))"
   ]
  },
  {
   "cell_type": "markdown",
   "metadata": {},
   "source": [
    "As previously mentioned, the columns are the actions that can be taken, i.e. the 9 locations of the tic-tac-toe grid. \n",
    "1. Top Left (corresponding action/player input: 11)\n",
    "2. Top Middle (corresponding action/player input: 12)\n",
    "3. Top Right (corresponding action/player input: 13)\n",
    "4. Middle Left (corresponding action/player input: 21)\n",
    "5. Middle Middle (corresponding action/player input: 22)\n",
    "6. Middle Right (corresponding action/player input: 23)\n",
    "7. Bottom Left (corresponding action/player input: 31)\n",
    "8. Bottom Middle (corresponding action/player input: 32)\n",
    "9. Bottom Right (corresponding action/player input: 33)\n",
    "\n",
    "We can now instantiate this Q-matrix given these rows and columns using a pandas dataframe. The first and only row we have for now is the first game state when the board is completely empty (`EEEEEEEEE`). All values in the Q-table are initialized to 0."
   ]
  },
  {
   "cell_type": "code",
   "execution_count": 54,
   "metadata": {},
   "outputs": [
    {
     "data": {
      "text/html": [
       "<div>\n",
       "<style scoped>\n",
       "    .dataframe tbody tr th:only-of-type {\n",
       "        vertical-align: middle;\n",
       "    }\n",
       "\n",
       "    .dataframe tbody tr th {\n",
       "        vertical-align: top;\n",
       "    }\n",
       "\n",
       "    .dataframe thead th {\n",
       "        text-align: right;\n",
       "    }\n",
       "</style>\n",
       "<table border=\"1\" class=\"dataframe\">\n",
       "  <thead>\n",
       "    <tr style=\"text-align: right;\">\n",
       "      <th></th>\n",
       "      <th>11</th>\n",
       "      <th>12</th>\n",
       "      <th>13</th>\n",
       "      <th>21</th>\n",
       "      <th>22</th>\n",
       "      <th>23</th>\n",
       "      <th>31</th>\n",
       "      <th>32</th>\n",
       "      <th>33</th>\n",
       "    </tr>\n",
       "  </thead>\n",
       "  <tbody>\n",
       "    <tr>\n",
       "      <td>EEEEEEEEE</td>\n",
       "      <td>0</td>\n",
       "      <td>0</td>\n",
       "      <td>0</td>\n",
       "      <td>0</td>\n",
       "      <td>0</td>\n",
       "      <td>0</td>\n",
       "      <td>0</td>\n",
       "      <td>0</td>\n",
       "      <td>0</td>\n",
       "    </tr>\n",
       "  </tbody>\n",
       "</table>\n",
       "</div>"
      ],
      "text/plain": [
       "           11  12  13  21  22  23  31  32  33\n",
       "EEEEEEEEE   0   0   0   0   0   0   0   0   0"
      ]
     },
     "execution_count": 54,
     "metadata": {},
     "output_type": "execute_result"
    }
   ],
   "source": [
    "# initialize board state\n",
    "initial_state = 9*'E'\n",
    "state_t = initial_state\n",
    "\n",
    "# initialize Q-learning table\n",
    "actions_lst = ['11','12','13','21','22','23','31','32','33']\n",
    "actions_dict = {i: actions_lst[i] for i in range(len(actions_lst))} # map action to 1,2...9\n",
    "q_learning_df = pd.DataFrame(columns=actions_lst,index=['EEEEEEEEE']) # empty df with action lst as columns\n",
    "q_learning_df.fillna(0)"
   ]
  },
  {
   "cell_type": "markdown",
   "metadata": {},
   "source": [
    "##### Q function"
   ]
  },
  {
   "cell_type": "markdown",
   "metadata": {},
   "source": [
    "'Q' in Q-learning stands for quality, which is the value generated from an action in the form of a reward. The q-function is used to update the Q-table for a given row (state) and column (action). It is written below and also known as Bellman's equation. "
   ]
  },
  {
   "cell_type": "markdown",
   "metadata": {},
   "source": [
    "$ Q(S,A)= Q(S,A) + α \\times(R + γ \\times maxaQ(S′,a)− Q(S,A)) $"
   ]
  },
  {
   "cell_type": "markdown",
   "metadata": {},
   "source": [
    "where\n",
    "- Q(S, A) is the new value in the Q-table for a given state S (row) and action A (column). In other words, it is the new value after the an action is taken given a board state. \n",
    "- α is the learning rate. For this analysis `α = 0.9`.\n",
    "- γ is the discount factor which we set to `γ = 0.95`.\n",
    "- S' is the next state after taking action A.\n",
    "- *maxaQ*(S′, a) is the highest Q value of an action A in S′, which will represent the Q value of the best move in the next state.\n",
    "- R is the reward after an action A. We set the reward using the following values:\n",
    "    - `R = 1` if action leads to victory.\n",
    "    - `R = -1` if action leads to defeat.\n",
    "    - `R = 0.5` if action leads to a tie.\n",
    "    - `R = 0` if otherwise, i.e. if the game continues without a specific game outcome (next player's turn)."
   ]
  },
  {
   "cell_type": "code",
   "execution_count": 55,
   "metadata": {},
   "outputs": [],
   "source": [
    "# set Q-learning table params\n",
    "alpha = 0.9\n",
    "gamma = 0.95\n",
    "\n",
    "# conditon for game win/loss\n",
    "X_wins = 3*'X'\n",
    "O_wins = 3*'O'\n",
    "\n",
    "# rewards\n",
    "reward_win = 1\n",
    "reward_loss = -1\n",
    "reward_tie = 0.5\n",
    "reward_continue = 0"
   ]
  },
  {
   "cell_type": "markdown",
   "metadata": {},
   "source": [
    "##### Finding all the game states"
   ]
  },
  {
   "cell_type": "markdown",
   "metadata": {},
   "source": [
    "The Q-table assumes knowledge of all possible positions on the board. One salient way to do this is to find all these combinations using a branch of mathematics called combinatorics. Another way to do this is to dynamically generate all these positions through gameplay. I've developed an algorithm, illustrated in the diagram below, which incorporates both the Q function and a way to update all game states. "
   ]
  },
  {
   "cell_type": "code",
   "execution_count": 56,
   "metadata": {},
   "outputs": [
    {
     "data": {
      "text/html": [
       "<img src=\"tic_tac_toe_drawing.png\" width=\"800\" height=\"600\"/>"
      ],
      "text/plain": [
       "<IPython.core.display.HTML object>"
      ]
     },
     "metadata": {},
     "output_type": "display_data"
    }
   ],
   "source": [
    "from IPython.core.display import display, HTML\n",
    "display(HTML('<img src=\"tic_tac_toe_drawing.png\" width=\"800\" height=\"600\"/>'))"
   ]
  },
  {
   "cell_type": "markdown",
   "metadata": {},
   "source": [
    "Below is a description of the flow of the algorithm.\n",
    "1. Look at the state of the board and check the table index to find if the state of the board exists in the Q-table.\n",
    "    - If it doesn't exist, add it as a row and initialize the values to 0.\n",
    "    - If is does, look at the values for that row.\n",
    "2. Selection the action the computer should take given possibilities on the board.\n",
    "    - action is the column of the table associated with the max value score.\n",
    "    - if there is a tie amongst values, choose randomly.\n",
    "3. After the action, a new state S' will be created. \n",
    "    - Check is S' is in table, and add it if it isn't (again initializing values to 0.)\n",
    "4. Check the board to see if an end state has been reached, i.e. a win or tie in the case where player X, the computer, just played.\n",
    "    - If the game status is \"win\" then set reward `R = 1`, update the new Q-value for the action and state using the Q-function, and increment number of wins plus 1.\n",
    "    - If the game status is \"tie\" then set reward `R = 0.5`, update the new Q-value for the action and state using the Q-function, and increment the number of ties plus 1.\n",
    "5. If end state has not reached, set the game status variable to `'continue'`, after which player 0, the opponent, makes their move.\n",
    "6. After player 0 plays, the state S'' is created.\n",
    "7. Check game state of S'', which can be either a loss, a tie, or 'continue'.\n",
    "    - If the game status is \"loss\" then set reward `R = -1`, update the new Q-value for the action and state using the Q-function, and increment number of losses plus 1.\n",
    "    - If the game status is \"tie\" then set reward `R = 0.5`, update the new Q-value for the action and state using the Q-function, and increment the number of ties plus 1. \n",
    "8. If the game status after the opponent's move is 'continue' then set reward `R = 0` \n",
    "9. Update the Q values given `R = 0` given the Q-function. \n",
    "10. Set S'' as the new initial state S and repeat from step 2.\n",
    "\n",
    "To implement the algorithm above, I created a series of functions included in the Appendix, namely:\n",
    "- `check_add_state(state,q_learning_df)` does step 1 and 6\n",
    "- `select_action(state,q_learning_df)` does step 2\n",
    "- `new_state_s1(action,state_t)` does step 3\n",
    "- `game_status_player_X(state)` does step 4 and 5\n",
    "- `game_status_player_O(state)` does 7 and 8\n",
    "- `reward(game_status)` does steps 4, 7 and 8\n",
    "- `update_q_table(state_t,state_t1,action,q_learning_df,reward)` does step 9\n",
    "- `opponent_play(state_t1)` does step 10"
   ]
  },
  {
   "cell_type": "markdown",
   "metadata": {},
   "source": [
    "##### Training results"
   ]
  },
  {
   "cell_type": "markdown",
   "metadata": {},
   "source": [
    "To train a computer using the Q-learning algorithm, we make it play 1000 games against an opponent which randomly makes selections on the board. The computer will be player X and the random player will be player O. We set `n = 1000` as the number of games and record the game outcomes: wins, losses and ties. \n",
    "- `q_learning_df` is the Q-table implemented as a pandas dataframe. This dataframe will get filled in with new states (rows) and values as more games are played.\n",
    "- `results` is a list containing the game outcomes after `n = 1000` games."
   ]
  },
  {
   "cell_type": "code",
   "execution_count": 88,
   "metadata": {},
   "outputs": [],
   "source": [
    "# train the agent to play against an opponent that plays randomly\n",
    "num_games = 1000 # number of games for training\n",
    "results = [] # score tally\n",
    "\n",
    "while len(results)<=num_games-1:\n",
    "    q_learning_df = check_add_state(state_t,q_learning_df)\n",
    "    action = select_action(state_t,q_learning_df)\n",
    "    state_t1 = new_state_s1(action,state_t)\n",
    "    q_learning_df = check_add_state(state_t1,q_learning_df)\n",
    "    game_status_playerX = game_status_player_X(state_t1)\n",
    "    rewardX = reward(game_status_playerX)\n",
    "\n",
    "    if game_status_playerX[0] != 'continue':\n",
    "        q_learning_df = update_q_table(state_t,state_t1,action,q_learning_df,rewardX)\n",
    "        results.append(game_status_playerX[0])\n",
    "        state_t = initial_state\n",
    "\n",
    "    else:\n",
    "        state_t2 = opponent_play(state_t1)\n",
    "        game_status_playerO = game_status_player_O(state_t2)\n",
    "        rewardO = reward(game_status_playerO)\n",
    "\n",
    "        if game_status_playerO[0] != 'continue':\n",
    "            q_learning_df = update_q_table(state_t,state_t1,action,q_learning_df,rewardO)\n",
    "            results.append(game_status_playerO[0])\n",
    "            state_t = initial_state\n",
    "        else:\n",
    "            q_learning_df = update_q_table(state_t,state_t1,action,q_learning_df,rewardO)\n",
    "            state_t = state_t2"
   ]
  },
  {
   "cell_type": "markdown",
   "metadata": {},
   "source": [
    "The results are printed below. As we play more games, we expect that the number of wins to increase and losses to decrease. Our results confirm that the computer has learned to play tic-tac-toe."
   ]
  },
  {
   "cell_type": "code",
   "execution_count": 113,
   "metadata": {},
   "outputs": [
    {
     "name": "stdout",
     "output_type": "stream",
     "text": [
      "Loss percentage in first 25 games:  60 %\n",
      "Win percentage in first 25 games:  24 %\n",
      "Tie percentage in first 25 games:  16 % \n",
      "\n",
      "Loss percentage in last 25 games:  28 %\n",
      "Win percentage in last 25 games:  60 %\n",
      "Tie percentage in last 25 games:  12 %\n"
     ]
    }
   ],
   "source": [
    "num_games_eval = 25\n",
    "print('Loss percentage in first {} games: '.format(num_games_eval),round(results[:num_games_eval].count('loss')/num_games_eval*100),'%')\n",
    "print('Win percentage in first {} games: '.format(num_games_eval),round(results[:num_games_eval].count('win')/num_games_eval*100),'%')\n",
    "print('Tie percentage in first {} games: '.format(num_games_eval),round(results[:num_games_eval].count('tie')/num_games_eval*100),'% \\n')\n",
    "\n",
    "print('Loss percentage in last {} games: '.format(num_games_eval),round(results[-num_games_eval:].count('loss')/num_games_eval*100),'%')\n",
    "print('Win percentage in last {} games: '.format(num_games_eval),round(results[-num_games_eval:].count('win')/num_games_eval*100),'%')\n",
    "print('Tie percentage in last {} games: '.format(num_games_eval),round(results[-num_games_eval:].count('tie')/num_games_eval*100),'%')"
   ]
  },
  {
   "cell_type": "markdown",
   "metadata": {},
   "source": [
    "After doing this training, our Q-table, `q_learning_df` gets populated. Highest values in the table for a given state represent the best action the computer should take. Negative values in the table represent actions that could lead to a loss. For example, if we look at the state `EXEEXOEEO`, action `13` is not a good move (value `-0.801`) because there is another better move, `31` (value `0.9`) which leads to a win."
   ]
  },
  {
   "cell_type": "code",
   "execution_count": 106,
   "metadata": {},
   "outputs": [
    {
     "data": {
      "text/html": [
       "<div>\n",
       "<style scoped>\n",
       "    .dataframe tbody tr th:only-of-type {\n",
       "        vertical-align: middle;\n",
       "    }\n",
       "\n",
       "    .dataframe tbody tr th {\n",
       "        vertical-align: top;\n",
       "    }\n",
       "\n",
       "    .dataframe thead th {\n",
       "        text-align: right;\n",
       "    }\n",
       "</style>\n",
       "<table border=\"1\" class=\"dataframe\">\n",
       "  <thead>\n",
       "    <tr style=\"text-align: right;\">\n",
       "      <th></th>\n",
       "      <th>11</th>\n",
       "      <th>12</th>\n",
       "      <th>13</th>\n",
       "      <th>21</th>\n",
       "      <th>22</th>\n",
       "      <th>23</th>\n",
       "      <th>31</th>\n",
       "      <th>32</th>\n",
       "      <th>33</th>\n",
       "    </tr>\n",
       "  </thead>\n",
       "  <tbody>\n",
       "    <tr>\n",
       "      <td>EXEEXEEEO</td>\n",
       "      <td>0.000</td>\n",
       "      <td>0.000</td>\n",
       "      <td>0.000</td>\n",
       "      <td>0.000</td>\n",
       "      <td>0.000</td>\n",
       "      <td>0.000</td>\n",
       "      <td>0.0000</td>\n",
       "      <td>0.000</td>\n",
       "      <td>0.0</td>\n",
       "    </tr>\n",
       "    <tr>\n",
       "      <td>EXEEXOEEO</td>\n",
       "      <td>0.990</td>\n",
       "      <td>0.099</td>\n",
       "      <td>-0.801</td>\n",
       "      <td>0.099</td>\n",
       "      <td>0.000</td>\n",
       "      <td>0.099</td>\n",
       "      <td>0.0990</td>\n",
       "      <td>0.900</td>\n",
       "      <td>0.0</td>\n",
       "    </tr>\n",
       "    <tr>\n",
       "      <td>EXXEXOEEO</td>\n",
       "      <td>0.000</td>\n",
       "      <td>0.000</td>\n",
       "      <td>0.000</td>\n",
       "      <td>0.000</td>\n",
       "      <td>0.000</td>\n",
       "      <td>0.000</td>\n",
       "      <td>0.0000</td>\n",
       "      <td>0.000</td>\n",
       "      <td>0.0</td>\n",
       "    </tr>\n",
       "    <tr>\n",
       "      <td>OXXEXOEEO</td>\n",
       "      <td>0.999</td>\n",
       "      <td>0.999</td>\n",
       "      <td>0.000</td>\n",
       "      <td>0.000</td>\n",
       "      <td>0.999</td>\n",
       "      <td>0.999</td>\n",
       "      <td>0.9999</td>\n",
       "      <td>0.999</td>\n",
       "      <td>0.0</td>\n",
       "    </tr>\n",
       "    <tr>\n",
       "      <td>OXXEXOXEO</td>\n",
       "      <td>0.000</td>\n",
       "      <td>0.000</td>\n",
       "      <td>0.000</td>\n",
       "      <td>0.000</td>\n",
       "      <td>0.000</td>\n",
       "      <td>0.000</td>\n",
       "      <td>0.0000</td>\n",
       "      <td>0.000</td>\n",
       "      <td>0.0</td>\n",
       "    </tr>\n",
       "  </tbody>\n",
       "</table>\n",
       "</div>"
      ],
      "text/plain": [
       "              11     12     13     21     22     23      31     32   33\n",
       "EXEEXEEEO  0.000  0.000  0.000  0.000  0.000  0.000  0.0000  0.000  0.0\n",
       "EXEEXOEEO  0.990  0.099 -0.801  0.099  0.000  0.099  0.0990  0.900  0.0\n",
       "EXXEXOEEO  0.000  0.000  0.000  0.000  0.000  0.000  0.0000  0.000  0.0\n",
       "OXXEXOEEO  0.999  0.999  0.000  0.000  0.999  0.999  0.9999  0.999  0.0\n",
       "OXXEXOXEO  0.000  0.000  0.000  0.000  0.000  0.000  0.0000  0.000  0.0"
      ]
     },
     "execution_count": 106,
     "metadata": {},
     "output_type": "execute_result"
    }
   ],
   "source": [
    "q_learning_df[215:220]"
   ]
  },
  {
   "cell_type": "markdown",
   "metadata": {},
   "source": [
    "##### Visual Analysis"
   ]
  },
  {
   "cell_type": "markdown",
   "metadata": {},
   "source": [
    "To visually explore the results, let's plot win/loss/tie percentage (y-axis) over the number of games (x-axis).\n",
    "- The green plot is the win percentage.\n",
    "- The red plot is the loss percentage.\n",
    "- The blue plot is the tie percentage."
   ]
  },
  {
   "cell_type": "code",
   "execution_count": 111,
   "metadata": {
    "scrolled": false
   },
   "outputs": [
    {
     "data": {
      "image/png": "[encoded data removed]",
      "text/plain": [
       "<Figure size 864x576 with 1 Axes>"
      ]
     },
     "metadata": {
      "needs_background": "light"
     },
     "output_type": "display_data"
    }
   ],
   "source": [
    "# calculate the results per game status\n",
    "def game_status_lst(game_results,game_outcome):\n",
    "    perc_lst = []\n",
    "    num_outcome = 0\n",
    "    for i in range(len(game_results)):\n",
    "        if game_results[i]==game_outcome:\n",
    "            num_outcome += 1\n",
    "            perc_lst.append(num_outcome/(i+1)*100)\n",
    "        else:\n",
    "            perc_lst.append(num_outcome/(i+1)*100)\n",
    "    return perc_lst\n",
    "\n",
    "win_perc_lst = game_status_lst(results,'win')\n",
    "loss_perc_lst = game_status_lst(results,'loss')\n",
    "tie_perc_lst = game_status_lst(results,'tie')\n",
    "\n",
    "# transform results per game status into a dataframe to vizualize\n",
    "data = {'% wins': win_perc_lst, '% losses': loss_perc_lst, '% ties':tie_perc_lst}\n",
    "results_df = pd.DataFrame(index=[i+1 for i in range(num_games)],data=data)\n",
    "results_df['# of games'] = results_df.index\n",
    "\n",
    "# visualize the results\n",
    "num_view = 250\n",
    "ax = plt.gca()\n",
    "results_df.head(num_view).plot(kind='line',x='# of games',y='% wins',color='green', ax=ax)\n",
    "results_df.head(num_view).plot(kind='line',x='# of games',y='% losses', color='red', ax=ax)\n",
    "results_df.head(num_view).plot(kind='line',x='# of games',y='% ties', color='blue', ax=ax)\n",
    "num_view\n",
    "plt.show()"
   ]
  },
  {
   "cell_type": "markdown",
   "metadata": {},
   "source": [
    "The graph shows that in the first few games, the computer loses often against the random player. However, as the Q-learning agent plays more games, it starts to win consistently against it's opponent, who is not adapting it's strategy over time. The numbers of tie games stays relatively consistent at a low number. Hence it can be concluded from this graph that we have successful taught the computer to be smarter at playing tic-tac-toe."
   ]
  },
  {
   "cell_type": "markdown",
   "metadata": {},
   "source": [
    "### Putting it all together"
   ]
  },
  {
   "cell_type": "markdown",
   "metadata": {},
   "source": [
    "We now combine the ability to play against a human or computer into a single game. \n",
    "- Run the tic-tac-toe game from the Terminal (`python tic_tac_toe.py`). \n",
    "- The following prompt will appear: 'To play against the computer, enter 1. For multiplayer, enter 2:`\n",
    "    - Type 1 and the Enter key to play against the computer.\n",
    "    - Type 2 and the Enter key to play against the computer that was trained to play the game.\n",
    "    - Hit Ctrl C to stop the game at any time.\n",
    "- If you play against the computer, you will be Os and the computer goes first.\n",
    "    - That is how the computer was taught to play the game. \n",
    "- There still is error checking in both games in case an invalid input is entered by the human player.\n",
    "    - The computer will never choose an invalid action.\n",
    "    - If you enter an invalid input, you will get an error message including the list of valid entries, and will be asked to retype your input.\n",
    "    \n",
    "In order to play against the computer, the computer will load the existing Q-table, which was updated after training using the Q-function, and will make it's selection based on this dataframe. To implement this, a `Computer` class was created including the methods listed below. \n",
    "- `check_add_state(state,q_learning_df)` - checks the state of the game and if not present, adds it to the Q-matrix `q_learning_df`. \n",
    "- `get_qlearning_data(self,state)` - converts the state as a string into a dataframe and filters the dataframe containing only the list of available moves.\n",
    "- `select_action(self,extract_df,state)` - computer makes selection using the Q-matrix and chooses randomly if there is more than one highest number in the table.\n",
    "- `convert_df(self,state,action_select)` - converts new state action action into a dataframe to display on the Terminal.\n",
    "    - the 'E' is the state strings are converts to NaNs which are empty (`''`) when printed on the screen.\n",
    "- `check_status(self,df,condition,player)` - checks to see what the game state is, i.e. 'win', 'loss', 'tie' or continue.\n",
    "- `get_available_actions(self,df)` - retrieves list of available moves.\n",
    "\n",
    "The code for the full game is included in the Appendix. "
   ]
  },
  {
   "cell_type": "markdown",
   "metadata": {},
   "source": [
    "### Appendix"
   ]
  },
  {
   "cell_type": "markdown",
   "metadata": {},
   "source": [
    "##### Multiplayer tic-tac-toe game"
   ]
  },
  {
   "cell_type": "code",
   "execution_count": 3,
   "metadata": {},
   "outputs": [],
   "source": [
    "# tic tac toe game\n",
    "def instructions():\n",
    "    os.system( 'clear' ) # clears terminal so that df is not printed each time\n",
    "    print('Instructions: each player enters location of X (player 1) or O (player 2) using a 2 digit integer, e.g. 12 for row 1 column 2')\n",
    "    print(tabulate(df.fillna(' '), headers='keys', tablefmt='fancy_grid'))\n",
    "    \n",
    "def play_game_multiplayer():\n",
    "    count = 0 # we will be increment the count to signal when end of game has been reached\n",
    "    input_lst = ['11', '12', '13', '21', '22', '23', '31', '32', '33'] \n",
    "    \n",
    "    while count <= 9: # ends game when table is complete   \n",
    "        # switches between player 1 and 2\n",
    "        if (count % 2) == 0:\n",
    "            player = ('Player 1','X')\n",
    "        else:\n",
    "            player = ('Player 2','O')\n",
    "        \n",
    "        while True:\n",
    "            # gets player input\n",
    "            player_input = str(input('{}({}): enter a 2-digit number representing a row and column: '.format(player[0],player[1]))) # input is a string\n",
    "\n",
    "            if player_input in input_lst:\n",
    "                # processes player input\n",
    "                player_input.split()\n",
    "\n",
    "                if player[0]=='Player 1':\n",
    "                    df.iloc[int(player_input[0])-1,int(player_input[1])- 1] = 'X'\n",
    "                else:\n",
    "                    df.iloc[int(player_input[0])-1,int(player_input[1])- 1] = 'O'\n",
    "\n",
    "                os.system( 'clear' )\n",
    "                print(tabulate(df.fillna(' '), headers='keys', tablefmt='fancy_grid'))\n",
    "                \n",
    "                #updates the input_lst so that overwrite error do not happen \n",
    "                remove_number = player_input[0] + player_input[1]\n",
    "                input_lst.remove(remove_number)\n",
    "                break\n",
    "            else:\n",
    "                print('Invalid input. You can enter any number from the following list:' , ', '.join(input_lst))\n",
    "                \n",
    "        # checks if player won\n",
    "        if (list(df[1].values) == (3 * [player[1]])) | (list(df[2].values) == (3 * [player[1]])) | (list(df[3].values) == (3 * [player[1]])): # wins by matching columns\n",
    "            print (\"{} wins\".format(player[0]))\n",
    "            sys.exit()\n",
    "        if (list(df.iloc[0]) == (3 * [player[1]])) | (list(df.iloc[1]) == (3 * [player[1]])) | (list(df.iloc[2]) == (3 * [player[1]])): # wins by matching rows\n",
    "            print (\"{} wins\".format(player[0]))\n",
    "            sys.exit()\n",
    "        if ([df.iloc[0, 0], df.iloc[1, 1], df.iloc[2, 2]] == (3 * [player[1]])) | ([df.iloc[0, 2], df.iloc[1, 1], df.iloc[2, 0]] == (3 * [player[1]])): # wins by matching columns\n",
    "            print (\"{} wins\".format(player[0]))\n",
    "            sys.exit()\n",
    "        \n",
    "        count += 1\n",
    "        # checks if end of game is reached and no one won\n",
    "        if count == 9: \n",
    "            print(\"It's a tie\")\n",
    "            sys.exit()"
   ]
  },
  {
   "cell_type": "markdown",
   "metadata": {},
   "source": [
    "##### Training the computer to play tic-tac-toe"
   ]
  },
  {
   "cell_type": "code",
   "execution_count": 58,
   "metadata": {},
   "outputs": [],
   "source": [
    "# check if state is in Q table, if not then add it to Q table\n",
    "def check_add_state(state,q_learning_df):\n",
    "    if not state in q_learning_df.index:\n",
    "        add_row = pd.DataFrame([[0.0 for i in range(9)]], index = [state],columns=actions_lst)\n",
    "        q_learning_df = q_learning_df.append(add_row)\n",
    "    else: \n",
    "        pass\n",
    "    return q_learning_df\n",
    " \n",
    "# selection action\n",
    "def select_action(state,q_learning_df):\n",
    "    # get available moves\n",
    "    available_moves = [] # where we will store available moves (actions)\n",
    "    for i in range(len(state)):\n",
    "        if state[i] == 'E':\n",
    "            available_moves.append(actions_dict[i])\n",
    "\n",
    "    # filter df by available moves\n",
    "    df = q_learning_df.loc[state,:].to_frame()\n",
    "    df = df[df.index.isin(available_moves)]\n",
    "\n",
    "    if len(np.unique(df.values))==1: # check if all values are the same\n",
    "        action = random.choice(df.index.tolist()) # choose random index\n",
    "    else:\n",
    "        action = df.idxmax().tolist()[0] # choose max\n",
    "    return action\n",
    "\n",
    "# update the board from action by creating a new state S(t+1)\n",
    "def new_state_s1(action,state_t):\n",
    "    action_idx = [k for k, v in actions_dict.items() if v == action][0] # get action index\n",
    "    state_lst = list(state_t) # convert state str to list\n",
    "    state_lst[action_idx] = 'X' # change the state based on action\n",
    "    state_t1 = ''.join(state_lst)# convert state back from list back to string\n",
    "    return state_t1\n",
    "\n",
    "# check game status after player X move (win, draw of continue)\n",
    "def game_status_player_X(state):\n",
    "    if (\n",
    "        # win by matching rows\n",
    "        (state[:3] == 3*'X') or\n",
    "        (state[3:6] == 3*'X') or \n",
    "        (state[6:9] == 3*'X') or\n",
    "        # win by matching columns\n",
    "        (state[0] + state[3] + state[6] == 3*'X') or\n",
    "        (state[1] + state[4] + state[7] == 3*'X') or \n",
    "        (state[2] + state[5] + state[8] == 3*'X') or\n",
    "        # win by diagonals\n",
    "        (state[0] + state[4] + state[8] == 3*'X') or\n",
    "        (state[2] + state[4] + state[6] == 3*'X')\n",
    "    ):\n",
    "        game_status = ('win',reward_win)\n",
    "    elif 'E' not in state:\n",
    "        game_status = ('tie',reward_tie)\n",
    "    else:\n",
    "        game_status = ('continue',reward_continue)\n",
    "    return game_status\n",
    "\n",
    "# check game status after player O move (loss, draw of continue)\n",
    "def game_status_player_O(state):\n",
    "    if (\n",
    "        # loss by matching rows\n",
    "        (state[:3] == 3*'O') or\n",
    "        (state[3:6] == 3*'O') or \n",
    "        (state[6:9] == 3*'O') or\n",
    "        # loss by matching columns\n",
    "        (state[0] + state[3] + state[6] == 3*'O') or\n",
    "        (state[1] + state[4] + state[7] == 3*'O') or \n",
    "        (state[2] + state[5] + state[8] == 3*'O') or\n",
    "        # loss by diagonals\n",
    "        (state[0] + state[4] + state[8] == 3*'O') or\n",
    "        (state[2] + state[4] + state[6] == 3*'O')\n",
    "    ):\n",
    "        game_status = ('loss',reward_loss)\n",
    "    elif 'E' not in state:\n",
    "        game_status = ('tie',reward_tie)\n",
    "    else:\n",
    "        game_status = ('continue',reward_continue)\n",
    "    return game_status\n",
    "\n",
    "# calculate reward\n",
    "def reward(game_status):\n",
    "    return game_status[1]\n",
    "\n",
    "# update Q table with Q-learning equation: \n",
    "# Q(S_t,A_t) <-- Q(S_t,A_t) + alpha * (reward + gamma * max_a_Q(S_t1,a) - Q(S_t,A_t))\n",
    "def update_q_table(state_t,state_t1,action,q_learning_df,reward):\n",
    "    q_value_t = q_learning_df.loc[state_t,action] # Q(S_t,A_t)\n",
    "    if q_learning_df.loc[state_t1,:].isin([0.0 for i in range(9)]).all():\n",
    "        max_a_t1 = random.choice(actions_lst)\n",
    "    else:\n",
    "        max_a_t1 = max(q_learning_df.loc[state_t1,:].to_dict(), key=q_learning_df.loc[state_t1,:].to_dict().get)\n",
    "    max_q_t1 = q_learning_df.loc[state_t1,max_a_t1]# max_a_Q(S_t1,a)\n",
    "    new_q_value_t = q_value_t + alpha*(reward + gamma*max_q_t1 - q_value_t) # update Q-value using formula\n",
    "    q_learning_df.loc[state_t,max_a_t1] = new_q_value_t # update Q-value table using Q-value calculated above\n",
    "    return q_learning_df\n",
    "\n",
    "# opponent plays by making random selection \n",
    "def opponent_play(state_t1):\n",
    "    available_moves = []\n",
    "    for i in range(len(state_t1)):\n",
    "        if state_t1[i] == 'E':\n",
    "            available_moves.append(i)\n",
    "    opponent_action = random.choice(available_moves) # action of player O\n",
    "    state_t1_lst = list(state_t1) # convert state str to list\n",
    "    state_t1_lst[opponent_action] = 'O' # change the state based on action\n",
    "    state_t2 = ''.join(state_t1_lst)# convert state back from list back to string\n",
    "    return state_t2"
   ]
  },
  {
   "cell_type": "markdown",
   "metadata": {},
   "source": [
    "##### Full tic-tac-toe game - play against human or computer"
   ]
  },
  {
   "cell_type": "code",
   "execution_count": 111,
   "metadata": {},
   "outputs": [],
   "source": [
    "class Computer:\n",
    "    def convert_to_state(self,df):\n",
    "        df_lst = []\n",
    "        for i,j,k in df.values.tolist():\n",
    "            df_lst.append(i)\n",
    "            df_lst.append(j)\n",
    "            df_lst.append(k)\n",
    "\n",
    "        df_lst = [x if isinstance(x,str) else 'E' for x in df_lst]\n",
    "        df_state = ''.join(df_lst)\n",
    "        return df_state\n",
    "    \n",
    "    def get_qlearning_data(self,state):  \n",
    "        if state in df_q_state.index:\n",
    "            df_extract = df_q_state.loc[state,:].to_frame().reset_index()\n",
    "            df_extract.rename(columns={'index': 'action'},inplace=True)\n",
    "            state_lst = list(state)\n",
    "            for i in range(len(df_extract.columns[1])):\n",
    "                if state_lst[i] != 'E':\n",
    "                    df_extract.drop(i,inplace=True)\n",
    "                else:\n",
    "                    pass\n",
    "        else: \n",
    "            df_extract  = pd.DataFrame({'action': ['11','12','13','21','22','23','31','32','33'],\n",
    "               state: [0.0]*9})\n",
    "            state_lst = list(state)\n",
    "            for i in range(len(df_extract.columns[1])):\n",
    "                if state_lst[i] != 'E':\n",
    "                    df_extract.drop(i,inplace=True)\n",
    "                else:\n",
    "                    pass\n",
    "        return df_extract\n",
    "    \n",
    "    def select_action(self,extract_df,state):\n",
    "        if extract_df[state].nunique() == 1:\n",
    "            action = random.choice(extract_df.index)\n",
    "        else:\n",
    "            action = extract_df[state].idxmax()\n",
    "        return action\n",
    "    \n",
    "    def convert_df(self,state,action_select):\n",
    "        # convert state to list and update state based on action\n",
    "        state_tolist = list(state)\n",
    "        state_tolist[action_select] = 'X'\n",
    "        \n",
    "        #create new df based on new state while converting 'E' to np.nan\n",
    "        new_df = pd.DataFrame({1: [np.nan if state_tolist[0]=='E' else state_tolist[0],\n",
    "                                   np.nan if state_tolist[3]=='E' else state_tolist[3],\n",
    "                                   np.nan if state_tolist[6]=='E'else state_tolist[6]],\n",
    "           2: [np.nan if state_tolist[1]=='E' else state_tolist[1],\n",
    "               np.nan if state_tolist[4]=='E' else state_tolist[4],\n",
    "               np.nan if state_tolist[7]=='E'else state_tolist[7]],\n",
    "           3: [np.nan if state_tolist[2]=='E' else state_tolist[2],\n",
    "               np.nan if state_tolist[5]=='E' else state_tolist[5],\n",
    "               np.nan if state_tolist[8]=='E'else state_tolist[8]],\n",
    "            },columns=[1,2,3],index=[1,2,3])\n",
    "        return new_df\n",
    "    \n",
    "    def check_status(self,df,condition,player):\n",
    "        if (list(df[1].values) == (3 * [condition])) | (list(df[2].values) == (3 * [condition])) | (list(df[3].values) == (3 * [condition])): # wins by matching columns\n",
    "            print (\"{} wins\".format(player))\n",
    "            sys.exit()\n",
    "        elif (list(df.iloc[0]) == (3 * [condition])) | (list(df.iloc[1]) == (3 * [condition])) | (list(df.iloc[2]) == (3 * [condition])): # wins by matching rows\n",
    "            print (\"{} wins\".format(player))\n",
    "            sys.exit()\n",
    "        elif ([df.iloc[0, 0], df.iloc[1, 1], df.iloc[2, 2]] == (3 * [condition])) | ([df.iloc[0, 2], df.iloc[1, 1], df.iloc[2, 0]] == (3 * [condition])): # wins by matching columns\n",
    "            print (\"{} wins\".format(player))\n",
    "            sys.exit()\n",
    "        else:\n",
    "            status = 'continue'\n",
    "        return status\n",
    "    \n",
    "    def get_available_actions(self,df):\n",
    "        input_lst = []\n",
    "        for i in range(len(df.values)):\n",
    "            if (df.values[i][0] != 'X') and (df.values[i][0] != 'O'):\n",
    "                input_lst.append(''.join([str(i+1),'1']))\n",
    "            if (df.values[i][1] != 'X') and (df.values[i][1] != 'O'):\n",
    "                input_lst.append(''.join([str(i+1),'2']))\n",
    "            if (df.values[i][2] != 'X') and (df.values[i][2] != 'O'):\n",
    "                input_lst.append(''.join([str(i+1),'3']))\n",
    "            else:\n",
    "                pass\n",
    "        return input_lst\n",
    "\n",
    "os.system('clear')\n",
    "game_choice = input('To play against the computer, enter 1. For multiplayer, enter 2: ')\n",
    "df_q_state = pd.read_csv('q_learning_df.csv',index_col=0) # load q-learning matrix\n",
    "comp = Computer() # create computer/software agent object\n",
    "df = pd.DataFrame(index = range(1,4), columns = range(1,4)) # creating empty df for the tic tac toe board\n",
    "\n",
    "while True:\n",
    "    if game_choice == '1':\n",
    "        instructions()\n",
    "        play_game_agent()\n",
    "    elif game_choice == '2':\n",
    "        while True:\n",
    "            # computer plays\n",
    "            state = comp.convert_to_state(df) # convert df to state (9-letter string)\n",
    "            extract_df = comp.get_qlearning_data(state) # get applicable state from q-learning matrix\n",
    "            action_select = comp.select_action(extract_df,state) # select action based on the q-learning matrix\n",
    "            df = comp.convert_df(state,action_select) # action -->new state -->new df\n",
    "\n",
    "            # check winner after computer plays\n",
    "            game_status = comp.check_status(df,'X','Computer')\n",
    "\n",
    "            # human plays\n",
    "            while True:\n",
    "                # get the input_lst (available input per the df)\n",
    "                input_lst = comp.get_available_actions(df)\n",
    "                # gets player input\n",
    "                player_input = str(input('{}({}): enter a 2-digit number representing a row and column: '.format(player[0],player[1]))) # input is a string\n",
    "                if player_input in input_lst:\n",
    "                    # processes player input\n",
    "                    player_input.split()\n",
    "                    df.iloc[int(player_input[0])-1,int(player_input[1])- 1] = 'O'\n",
    "                    os.system( 'clear' )\n",
    "                    print(tabulate(df.fillna(' '), headers='keys', tablefmt='fancy_grid'))\n",
    "                    #updates the input_lst so that overwrite error do not happen \n",
    "                    remove_number = player_input[0] + player_input[1]\n",
    "                    input_lst.remove(remove_number)\n",
    "                    break\n",
    "            # check winner after human plays\n",
    "            game_status = comp.check_status(df,'O','Human')\n",
    "    else:\n",
    "        game_choice = input('Invalid input. Enter Ctrl+C to exit, or enter 1 or 2 to play: ')"
   ]
  }
 ],
 "metadata": {
  "kernelspec": {
   "display_name": "Python 3",
   "language": "python",
   "name": "python3"
  },
  "language_info": {
   "codemirror_mode": {
    "name": "ipython",
    "version": 3
   },
   "file_extension": ".py",
   "mimetype": "text/x-python",
   "name": "python",
   "nbconvert_exporter": "python",
   "pygments_lexer": "ipython3",
   "version": "3.7.4"
  }
 },
 "nbformat": 4,
 "nbformat_minor": 2
}
